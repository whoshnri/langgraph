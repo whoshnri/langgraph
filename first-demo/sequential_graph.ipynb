{
 "cells": [
  {
   "cell_type": "code",
   "execution_count": 3,
   "id": "7d04fb9d",
   "metadata": {},
   "outputs": [],
   "source": [
    "from langgraph.graph import StateGraph\n",
    "from typing import *"
   ]
  },
  {
   "cell_type": "code",
   "execution_count": 4,
   "id": "ccafadad",
   "metadata": {},
   "outputs": [],
   "source": [
    "class AgentState(TypedDict):\n",
    "    name : str\n",
    "    final : str\n",
    "    age : int"
   ]
  },
  {
   "cell_type": "code",
   "execution_count": 13,
   "id": "a11bceba",
   "metadata": {},
   "outputs": [],
   "source": [
    "def first_node(state:AgentState) -> AgentState:\n",
    "    \"\"\"this node just changes the state on the first node\"\"\"\n",
    "    state['age'] = state[\"age\"] + 2\n",
    "    state[\"name\"] = state[\"name\"] + \" Henry\"\n",
    "    return state"
   ]
  },
  {
   "cell_type": "code",
   "execution_count": 14,
   "id": "262dd539",
   "metadata": {},
   "outputs": [],
   "source": [
    "def second_node(state:AgentState) -> AgentState:\n",
    "    \"\"\"this is the second layer of modification\"\"\"\n",
    "    state[\"age\"] = state[\"age\"] + 6\n",
    "    state[\"name\"] = state[\"name\"] + \" Bassey\"\n",
    "    state['final'] = f'{state[\"name\"]} is {state[\"age\"]} years old'\n",
    "    return state"
   ]
  },
  {
   "cell_type": "code",
   "execution_count": 15,
   "id": "ec6b9f92",
   "metadata": {},
   "outputs": [],
   "source": [
    "graph = StateGraph(AgentState)\n",
    "\n",
    "graph.add_node(\"starter\", first_node)\n",
    "graph.add_node(\"finisher\", second_node)\n",
    "\n",
    "graph.set_entry_point(\"starter\")\n",
    "graph.add_edge(\"starter\",  \"finisher\")\n",
    "graph.set_finish_point(\"finisher\")\n",
    "\n",
    "app = graph.compile()"
   ]
  },
  {
   "cell_type": "code",
   "execution_count": 16,
   "id": "8466a247",
   "metadata": {},
   "outputs": [],
   "source": [
    "result = app.invoke({\"name\": \"Mr\", \"age\": 10})"
   ]
  },
  {
   "cell_type": "code",
   "execution_count": 17,
   "id": "cccdf20f",
   "metadata": {},
   "outputs": [
    {
     "data": {
      "text/plain": [
       "'Mr Henry Bassey is 18 years old'"
      ]
     },
     "execution_count": 17,
     "metadata": {},
     "output_type": "execute_result"
    }
   ],
   "source": [
    "result[\"final\"]"
   ]
  },
  {
   "cell_type": "code",
   "execution_count": null,
   "id": "87cb54ca",
   "metadata": {},
   "outputs": [],
   "source": []
  }
 ],
 "metadata": {
  "kernelspec": {
   "display_name": "venv (3.13.1)",
   "language": "python",
   "name": "python3"
  },
  "language_info": {
   "codemirror_mode": {
    "name": "ipython",
    "version": 3
   },
   "file_extension": ".py",
   "mimetype": "text/x-python",
   "name": "python",
   "nbconvert_exporter": "python",
   "pygments_lexer": "ipython3",
   "version": "3.13.1"
  }
 },
 "nbformat": 4,
 "nbformat_minor": 5
}
