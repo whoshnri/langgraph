{
 "cells": [
  {
   "cell_type": "code",
   "execution_count": 4,
   "id": "cccc6828",
   "metadata": {},
   "outputs": [],
   "source": [
    "from typing import Dict, TypedDict\n",
    "from langgraph.graph import StateGraph"
   ]
  },
  {
   "cell_type": "code",
   "execution_count": null,
   "id": "fde5b8e2",
   "metadata": {},
   "outputs": [],
   "source": [
    "# creating AgentState\n",
    "class AgentState(TypedDict):\n",
    "    message : str\n",
    "\n",
    "def greeting_node(state: AgentState) -> AgentState:\n",
    "    \"\"\"Simple node that adds a greeting message to the state.\"\"\"\n",
    "    state['message'] = f\"Hey {state[\"message\"]} how are you doing today?\"\n",
    "    return state\n",
    "\n"
   ]
  },
  {
   "cell_type": "code",
   "execution_count": 6,
   "id": "7db156c2",
   "metadata": {},
   "outputs": [],
   "source": [
    "#create a state graph\n",
    "graph = StateGraph(AgentState)\n",
    "\n",
    "# add a node to the graph\n",
    "graph.add_node(\n",
    "    \"greeter\",\n",
    "    greeting_node\n",
    ")\n",
    "\n",
    "graph.set_entry_point(\"greeter\")\n",
    "graph.set_finish_point(\"greeter\")\n",
    "\n",
    "\n",
    "#compile the graph\n",
    "app = graph.compile()"
   ]
  },
  {
   "cell_type": "code",
   "execution_count": 10,
   "id": "5733722b",
   "metadata": {},
   "outputs": [],
   "source": [
    "result = app.invoke({\"message\":\"Bob\"})"
   ]
  },
  {
   "cell_type": "code",
   "execution_count": 11,
   "id": "f72abb60",
   "metadata": {},
   "outputs": [
    {
     "data": {
      "text/plain": [
       "'Hey Bob how are you doing today?'"
      ]
     },
     "execution_count": 11,
     "metadata": {},
     "output_type": "execute_result"
    }
   ],
   "source": [
    "result[\"message\"]"
   ]
  },
  {
   "cell_type": "code",
   "execution_count": null,
   "id": "1c23ccf5",
   "metadata": {},
   "outputs": [],
   "source": []
  }
 ],
 "metadata": {
  "kernelspec": {
   "display_name": "venv (3.13.1)",
   "language": "python",
   "name": "python3"
  },
  "language_info": {
   "codemirror_mode": {
    "name": "ipython",
    "version": 3
   },
   "file_extension": ".py",
   "mimetype": "text/x-python",
   "name": "python",
   "nbconvert_exporter": "python",
   "pygments_lexer": "ipython3",
   "version": "3.13.1"
  }
 },
 "nbformat": 4,
 "nbformat_minor": 5
}
