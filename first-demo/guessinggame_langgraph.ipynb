{
 "cells": [
  {
   "cell_type": "code",
   "execution_count": 57,
   "id": "f7842aa6",
   "metadata": {},
   "outputs": [],
   "source": [
    "from typing import TypedDict, List, Tuple\n",
    "from langgraph.graph import StateGraph, END, START\n",
    "from random import randint"
   ]
  },
  {
   "cell_type": "code",
   "execution_count": 95,
   "id": "67a0aab7",
   "metadata": {},
   "outputs": [],
   "source": [
    "class AgentState(TypedDict):\n",
    "    player : str\n",
    "    correct : int\n",
    "    curr : int\n",
    "    guesses : List[int]\n",
    "    lower_bound : int\n",
    "    upper_bound : int\n",
    "    attempts : int\n",
    "    max_attempts : int\n",
    "    message : str"
   ]
  },
  {
   "cell_type": "code",
   "execution_count": 184,
   "id": "9dff2a65",
   "metadata": {},
   "outputs": [],
   "source": [
    "def guess(state:AgentState) -> AgentState:\n",
    "    ''' this will guess the number'''\n",
    "    guess = randint(state['lower_bound'],state['upper_bound'])\n",
    "    while guess in state['guesses']:\n",
    "        guess = randint(state['lower_bound'],state['upper_bound'])\n",
    "    # print(guess) #debug\n",
    "    state['curr'] = guess\n",
    "    state['attempts'] += 1\n",
    "    return state\n"
   ]
  },
  {
   "cell_type": "code",
   "execution_count": 185,
   "id": "b986e76c",
   "metadata": {},
   "outputs": [],
   "source": [
    "def good_message(state:AgentState) -> AgentState:\n",
    "    state['message'] = f\"Good Job {state['player']}\"\n",
    "    return state\n",
    "\n",
    "\n",
    "def bad_message(state:AgentState) -> AgentState:\n",
    "    state['message'] = f\"{state['player']}, you missed this round\"\n",
    "    return state"
   ]
  },
  {
   "cell_type": "code",
   "execution_count": null,
   "id": "70da7376",
   "metadata": {},
   "outputs": [],
   "source": [
    "def validate(state: AgentState) -> str:\n",
    "    if state['attempts'] <= state['max_attempts']:\n",
    "        state['guesses'].append(state['curr'])\n",
    "        if state['curr'] == state['correct']:\n",
    "            return 'good'\n",
    "        else:\n",
    "            return 'bad'\n",
    "    else:\n",
    "        return 'end_loop'\n"
   ]
  },
  {
   "cell_type": "code",
   "execution_count": 187,
   "id": "028c613d",
   "metadata": {},
   "outputs": [],
   "source": [
    "graph = StateGraph(AgentState)\n",
    "graph.add_node('validator', lambda state: state)\n",
    "graph.add_node('generator', guess)\n",
    "graph.add_node('good', good_message)\n",
    "graph.add_node('bad', bad_message)\n",
    "\n",
    "graph.add_conditional_edges(\n",
    "    'validator',\n",
    "    validate , \n",
    "    {\n",
    "        'good' : 'good',\n",
    "        'end_loop' : END,\n",
    "        'bad' : \"bad\"\n",
    "    }\n",
    ")\n",
    "\n",
    "graph.add_edge('generator','validator')\n",
    "graph.add_edge('good', END)\n",
    "graph.add_edge('bad', 'generator')\n",
    "graph.set_entry_point('generator')\n",
    "\n",
    "app = graph.compile()"
   ]
  },
  {
   "cell_type": "code",
   "execution_count": null,
   "id": "80e756b7",
   "metadata": {},
   "outputs": [
    {
     "name": "stdout",
     "output_type": "stream",
     "text": [
      "Good Job Henry [2, 1, 10, 3, 7]\n"
     ]
    }
   ],
   "source": [
    "initial_state = {\n",
    "    'player' : \"Henry\",\n",
    "    'correct':      7,\n",
    "    'curr':        -1,\n",
    "    'guesses':     [],\n",
    "    'lower_bound':  0,\n",
    "    'upper_bound': 10,\n",
    "    'attempts':     0,\n",
    "    'max_attempts': 5,\n",
    "    'message': ''\n",
    "}\n",
    "\n",
    "results = app.invoke(initial_state)\n",
    "print(results['message'])"
   ]
  },
  {
   "cell_type": "code",
   "execution_count": null,
   "id": "eef42792",
   "metadata": {},
   "outputs": [],
   "source": []
  }
 ],
 "metadata": {
  "kernelspec": {
   "display_name": "venv (3.13.1)",
   "language": "python",
   "name": "python3"
  },
  "language_info": {
   "codemirror_mode": {
    "name": "ipython",
    "version": 3
   },
   "file_extension": ".py",
   "mimetype": "text/x-python",
   "name": "python",
   "nbconvert_exporter": "python",
   "pygments_lexer": "ipython3",
   "version": "3.13.1"
  }
 },
 "nbformat": 4,
 "nbformat_minor": 5
}
