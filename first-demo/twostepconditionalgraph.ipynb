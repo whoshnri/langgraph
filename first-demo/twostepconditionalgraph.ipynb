{
 "cells": [
  {
   "cell_type": "code",
   "execution_count": 1,
   "id": "d25b1dfd",
   "metadata": {},
   "outputs": [],
   "source": [
    "from typing import TypedDict\n",
    "from langgraph.graph import StateGraph, START, END"
   ]
  },
  {
   "cell_type": "code",
   "execution_count": 2,
   "id": "e0e5ff9d",
   "metadata": {},
   "outputs": [],
   "source": [
    "class AgentState(TypedDict):\n",
    "    number1 : int\n",
    "    number2 : int\n",
    "    number3 : int\n",
    "    number4 : int\n",
    "    op1 : str\n",
    "    op2 : str\n",
    "    op3 : str\n",
    "    initial1 : int\n",
    "    initial2 : int\n",
    "    final : int"
   ]
  },
  {
   "cell_type": "code",
   "execution_count": 3,
   "id": "0358ac22",
   "metadata": {},
   "outputs": [],
   "source": [
    "def adder1(state: AgentState) -> AgentState:\n",
    "    \"Adds the first round\"\n",
    "    state['initial1'] = state['number1'] + state['number2']\n",
    "    return state"
   ]
  },
  {
   "cell_type": "code",
   "execution_count": 4,
   "id": "fe5d63f8",
   "metadata": {},
   "outputs": [],
   "source": [
    "def adder2(state: AgentState) -> AgentState:\n",
    "    \"Adds the first round\"\n",
    "    state['initial2'] = state['number3'] + state['number4']\n",
    "    return state"
   ]
  },
  {
   "cell_type": "code",
   "execution_count": 5,
   "id": "73e7d04e",
   "metadata": {},
   "outputs": [],
   "source": [
    "def adder3(state: AgentState) -> AgentState:\n",
    "    \"Adds the first round\"\n",
    "    state['final'] = state['initial1'] + state['initial2']\n",
    "    return state"
   ]
  },
  {
   "cell_type": "code",
   "execution_count": 6,
   "id": "7b1e2f98",
   "metadata": {},
   "outputs": [],
   "source": [
    "def sub1(state: AgentState) -> AgentState:\n",
    "    \"Adds the first round\"\n",
    "    state['initial1'] = state['number1'] - state['number2']\n",
    "    return state"
   ]
  },
  {
   "cell_type": "code",
   "execution_count": 7,
   "id": "56b54be6",
   "metadata": {},
   "outputs": [],
   "source": [
    "def sub2(state: AgentState) -> AgentState:\n",
    "    \"Adds the first round\"\n",
    "    state['initial2'] = state['number3'] - state['number4']\n",
    "    return state"
   ]
  },
  {
   "cell_type": "code",
   "execution_count": 8,
   "id": "14d90c43",
   "metadata": {},
   "outputs": [],
   "source": [
    "def sub3(state: AgentState) -> AgentState:\n",
    "    \"Adds the first round\"\n",
    "    state['final'] = state['initial1'] - state['initial2']\n",
    "    return state"
   ]
  },
  {
   "cell_type": "code",
   "execution_count": 9,
   "id": "e27275d1",
   "metadata": {},
   "outputs": [],
   "source": [
    "def router1(state:AgentState) -> AgentState:\n",
    "    if state['op1'] == '+' :\n",
    "        return 'add_op1'\n",
    "    else:\n",
    "        return 'sub_op1'"
   ]
  },
  {
   "cell_type": "code",
   "execution_count": 10,
   "id": "5d148ca5",
   "metadata": {},
   "outputs": [],
   "source": [
    "def router2(state:AgentState) -> AgentState:\n",
    "    if state['op2'] == '+' :\n",
    "        return 'add_op2'\n",
    "    else:\n",
    "        return 'sub_op2'"
   ]
  },
  {
   "cell_type": "code",
   "execution_count": 11,
   "id": "c61b2400",
   "metadata": {},
   "outputs": [],
   "source": [
    "def router3(state:AgentState) -> AgentState:\n",
    "    if state['op3'] == '+' :\n",
    "        return 'add_op3'\n",
    "    else:\n",
    "        return 'sub_op3'"
   ]
  },
  {
   "cell_type": "code",
   "execution_count": 12,
   "id": "f1ad70af",
   "metadata": {},
   "outputs": [],
   "source": [
    "graph = StateGraph(AgentState)\n",
    "graph.add_node('add1', adder1)\n",
    "graph.add_node('add2', adder2)\n",
    "graph.add_node('add3', adder3)\n",
    "graph.add_node('sub1', sub1)\n",
    "graph.add_node('sub2', sub2)\n",
    "graph.add_node('sub3', sub3)\n",
    "graph.add_node(\"router1\", lambda state:state)\n",
    "graph.add_node('router2', lambda state:state)\n",
    "graph.add_node('router3', lambda state:state)\n",
    "\n",
    "\n",
    "graph.add_edge(START, 'router1')\n",
    "graph.add_conditional_edges(\n",
    "    'router1',\n",
    "    router1,\n",
    "    {\n",
    "        'add_op1': 'add1',\n",
    "        'sub_op1': 'sub1',\n",
    "    },\n",
    ")\n",
    "graph.add_edge('add1', 'router2')\n",
    "graph.add_edge('sub1', 'router2')\n",
    "\n",
    "graph.add_conditional_edges(\n",
    "    'router2',\n",
    "    router2,\n",
    "    {\n",
    "        'add_op2': 'add2',\n",
    "        'sub_op2': 'sub2',\n",
    "    },\n",
    ")\n",
    "graph.add_edge('add2', 'router3')\n",
    "graph.add_edge('sub2', 'router3')\n",
    "\n",
    "graph.add_conditional_edges(\n",
    "    'router3',\n",
    "    router3,\n",
    "    {\n",
    "        'add_op3': 'add3',\n",
    "        'sub_op3': 'sub3',\n",
    "    },\n",
    ")\n",
    "graph.add_edge('add3', END)\n",
    "graph.add_edge('sub3', END)\n",
    "\n",
    "app = graph.compile()\n",
    "\n"
   ]
  },
  {
   "cell_type": "code",
   "execution_count": 13,
   "id": "b5c5bc29",
   "metadata": {},
   "outputs": [
    {
     "name": "stdout",
     "output_type": "stream",
     "text": [
      "4\n"
     ]
    }
   ],
   "source": [
    "result = app.invoke({'number1' : 5, 'number2' : 2 , 'number3' : 2 , 'number4' : 1 , 'op1' : \"+\" , 'op2' : '+' , 'op3' : '-'})\n",
    "print(result['final'])"
   ]
  },
  {
   "cell_type": "code",
   "execution_count": null,
   "id": "52960b3f",
   "metadata": {},
   "outputs": [],
   "source": []
  }
 ],
 "metadata": {
  "kernelspec": {
   "display_name": "venv (3.13.1)",
   "language": "python",
   "name": "python3"
  },
  "language_info": {
   "codemirror_mode": {
    "name": "ipython",
    "version": 3
   },
   "file_extension": ".py",
   "mimetype": "text/x-python",
   "name": "python",
   "nbconvert_exporter": "python",
   "pygments_lexer": "ipython3",
   "version": "3.13.1"
  }
 },
 "nbformat": 4,
 "nbformat_minor": 5
}
