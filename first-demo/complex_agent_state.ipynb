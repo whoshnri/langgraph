{
 "cells": [
  {
   "cell_type": "code",
   "execution_count": 1,
   "id": "886e5ca5",
   "metadata": {},
   "outputs": [],
   "source": [
    "from typing import TypedDict, List\n",
    "from langgraph.graph import StateGraph"
   ]
  },
  {
   "cell_type": "code",
   "execution_count": 3,
   "id": "781fe117",
   "metadata": {},
   "outputs": [],
   "source": [
    "class AgentState(TypedDict):\n",
    "    numbers : List[int]\n",
    "    name : str\n",
    "    result : str\n"
   ]
  },
  {
   "cell_type": "code",
   "execution_count": 28,
   "id": "14bb96ed",
   "metadata": {},
   "outputs": [],
   "source": [
    "def process_values(state:AgentState) -> AgentState:\n",
    "    \"\"\"this process handles multiple different state inputs\"\"\"\n",
    "    print(state)\n",
    "    state[\"result\"] = f\"Hi there {state[\"name\"]}, your sum is {sum(state['numbers'])}\"\n",
    "    print(state)\n",
    "    return state"
   ]
  },
  {
   "cell_type": "code",
   "execution_count": 29,
   "id": "f14300cb",
   "metadata": {},
   "outputs": [],
   "source": [
    "graph = StateGraph(AgentState)\n",
    "\n",
    "graph.add_node(\"long\", process_values)\n",
    "graph.set_entry_point(\"long\")\n",
    "graph.set_finish_point(\"long\")\n",
    "\n",
    "app = graph.compile()\n"
   ]
  },
  {
   "cell_type": "code",
   "execution_count": 30,
   "id": "427b7bdd",
   "metadata": {},
   "outputs": [
    {
     "name": "stdout",
     "output_type": "stream",
     "text": [
      "{'numbers': [1, 2, 3, 4], 'name': 'Henry'}\n",
      "{'numbers': [1, 2, 3, 4], 'name': 'Henry', 'result': 'Hi there Henry, your sum is 10'}\n"
     ]
    }
   ],
   "source": [
    "answer = app.invoke({\"name\" : \"Henry\", \"numbers\" : [1,2,3,4]})"
   ]
  },
  {
   "cell_type": "code",
   "execution_count": null,
   "id": "02e6ad18",
   "metadata": {},
   "outputs": [],
   "source": []
  }
 ],
 "metadata": {
  "kernelspec": {
   "display_name": "venv",
   "language": "python",
   "name": "python3"
  },
  "language_info": {
   "codemirror_mode": {
    "name": "ipython",
    "version": 3
   },
   "file_extension": ".py",
   "mimetype": "text/x-python",
   "name": "python",
   "nbconvert_exporter": "python",
   "pygments_lexer": "ipython3",
   "version": "3.13.1"
  }
 },
 "nbformat": 4,
 "nbformat_minor": 5
}
