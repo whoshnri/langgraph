{
 "cells": [
  {
   "cell_type": "code",
   "execution_count": 3,
   "id": "81286c9e",
   "metadata": {},
   "outputs": [],
   "source": [
    "from typing import TypedDict, List, Dict\n",
    "from langgraph.graph import StateGraph, START , END"
   ]
  },
  {
   "cell_type": "code",
   "execution_count": 21,
   "id": "41f0c803",
   "metadata": {},
   "outputs": [],
   "source": [
    "class AgentState(TypedDict):\n",
    "    name : str\n",
    "    string : str\n",
    "    number : List[int]\n",
    "    counter : int\n",
    "    end : int\n",
    "\n"
   ]
  },
  {
   "cell_type": "code",
   "execution_count": 22,
   "id": "4fcd95cf",
   "metadata": {},
   "outputs": [],
   "source": [
    "def greeting_node(state:AgentState) -> AgentState:\n",
    "    \"\"\"Greeting node to start off the graph\"\"\"\n",
    "    state['string'] = f'Hi there {state['name']}'\n",
    "    state['counter'] = 0\n",
    "    return state"
   ]
  },
  {
   "cell_type": "code",
   "execution_count": 23,
   "id": "f0ff5cc0",
   "metadata": {},
   "outputs": [],
   "source": [
    "def random_node(state:AgentState) -> AgentState:\n",
    "    \"\"\"Randome looping node\"\"\"\n",
    "    state['string'] = f'Hi there {state['name']} this after {state[\"counter\"]} iterations'\n",
    "    state['number'].append(state['counter'])\n",
    "    state['counter'] += 1\n",
    "\n",
    "    return state"
   ]
  },
  {
   "cell_type": "code",
   "execution_count": 24,
   "id": "e4e22d66",
   "metadata": {},
   "outputs": [],
   "source": [
    "def looper(state:AgentState) -> AgentState:\n",
    "    \"\"\"this controls the loop in the graph\"\"\"\n",
    "    if state['counter'] < state['end']:\n",
    "        print('Loop continues, condition satisfied')\n",
    "        return \"loop\"\n",
    "    else:\n",
    "        print('Loop discontinued, condition not satisfied')\n",
    "        return 'exit'\n",
    "        "
   ]
  },
  {
   "cell_type": "code",
   "execution_count": 25,
   "id": "5d537de6",
   "metadata": {},
   "outputs": [],
   "source": [
    "graph = StateGraph(AgentState)\n",
    "graph.add_node('greeter', greeting_node)\n",
    "graph.add_node('random', random_node)\n",
    "\n",
    "\n",
    "graph.add_edge('greeter', 'random')\n",
    "\n",
    "graph.add_conditional_edges(\n",
    "    'random',\n",
    "    looper,\n",
    "    {\n",
    "        'loop' : 'random',\n",
    "        'exit' : END\n",
    "    }\n",
    ")\n",
    "\n",
    "graph.set_entry_point('greeter')\n",
    "\n",
    "app = graph.compile()"
   ]
  },
  {
   "cell_type": "code",
   "execution_count": 26,
   "id": "6e2f1ac3",
   "metadata": {},
   "outputs": [
    {
     "name": "stdout",
     "output_type": "stream",
     "text": [
      "Loop continues, condition satisfied\n",
      "Loop continues, condition satisfied\n",
      "Loop continues, condition satisfied\n",
      "Loop continues, condition satisfied\n",
      "Loop discontinued, condition not satisfied\n",
      "{'name': 'Henry', 'string': 'Hi there Henry this after 4 iterations', 'number': [0, 1, 2, 3, 4], 'counter': 5, 'end': 5}\n"
     ]
    }
   ],
   "source": [
    "results = app.invoke({'name' : \"Henry\", 'end' : 5, 'number' : []})\n",
    "print(results)"
   ]
  },
  {
   "cell_type": "code",
   "execution_count": null,
   "id": "b2b2e698",
   "metadata": {},
   "outputs": [],
   "source": []
  }
 ],
 "metadata": {
  "kernelspec": {
   "display_name": "venv (3.13.1)",
   "language": "python",
   "name": "python3"
  },
  "language_info": {
   "codemirror_mode": {
    "name": "ipython",
    "version": 3
   },
   "file_extension": ".py",
   "mimetype": "text/x-python",
   "name": "python",
   "nbconvert_exporter": "python",
   "pygments_lexer": "ipython3",
   "version": "3.13.1"
  }
 },
 "nbformat": 4,
 "nbformat_minor": 5
}
