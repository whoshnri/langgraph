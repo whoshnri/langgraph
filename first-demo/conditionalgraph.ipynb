{
 "cells": [
  {
   "cell_type": "code",
   "execution_count": 4,
   "id": "ef0939ab",
   "metadata": {},
   "outputs": [],
   "source": [
    "from typing import TypedDict\n",
    "from langgraph.graph import StateGraph , START , END"
   ]
  },
  {
   "cell_type": "code",
   "execution_count": 5,
   "id": "f603785d",
   "metadata": {},
   "outputs": [],
   "source": [
    "class AgentState(TypedDict):\n",
    "    number1 : int\n",
    "    operation : str\n",
    "    number2 : int\n",
    "    finalNumber : int"
   ]
  },
  {
   "cell_type": "code",
   "execution_count": 14,
   "id": "36453fd5",
   "metadata": {},
   "outputs": [],
   "source": [
    "def adder(state:AgentState) -> AgentState:\n",
    "    \"\"\"this add 2 number\"\"\"\n",
    "    state['finalNumber'] = state['number1'] + state['number2']\n",
    "    return state"
   ]
  },
  {
   "cell_type": "code",
   "execution_count": 15,
   "id": "89f0a173",
   "metadata": {},
   "outputs": [],
   "source": [
    "def subtracter(state:AgentState) -> AgentState:\n",
    "    \"\"\"This subtracts the 2 numbers\"\"\"\n",
    "    state['finalNumber'] = state['number1'] - state['number2']\n",
    "    return state"
   ]
  },
  {
   "cell_type": "code",
   "execution_count": 16,
   "id": "888e2c50",
   "metadata": {},
   "outputs": [],
   "source": [
    "def decider(state:AgentState) -> AgentState:\n",
    "    \"\"\"this decides the operation\"\"\"\n",
    "    if state['operation'] == '+':\n",
    "        return 'addition_operation'\n",
    "    elif state['operation'] == '-':\n",
    "        return 'subraction_operation'\n"
   ]
  },
  {
   "cell_type": "code",
   "execution_count": 19,
   "id": "096aefac",
   "metadata": {},
   "outputs": [],
   "source": [
    "graph = StateGraph(AgentState)\n",
    "graph.add_node(\"add\", adder)\n",
    "graph.add_node(\"subtract\", subtracter)\n",
    "graph.add_node(\"router\", lambda state:state)\n",
    "\n",
    "\n",
    "graph.add_edge(START, \"router\")\n",
    "graph.add_conditional_edges(\n",
    "    \"router\",\n",
    "    decider,\n",
    "    {\n",
    "        #edge : node\n",
    "        \"subraction_operation\" : \"subtract\",\n",
    "        \"addition_operation\" : 'add',\n",
    "    }\n",
    ")\n",
    "\n",
    "graph.add_edge('add', END)\n",
    "graph.add_edge('subtract', END)\n",
    "\n",
    "app = graph.compile()"
   ]
  },
  {
   "cell_type": "code",
   "execution_count": 22,
   "id": "7415afed",
   "metadata": {},
   "outputs": [
    {
     "name": "stdout",
     "output_type": "stream",
     "text": [
      "{'number1': 3, 'operation': '+', 'number2': 4, 'finalNumber': 7}\n"
     ]
    }
   ],
   "source": [
    "result = app.invoke({\"number1\" : 3, 'operation' : '+', \"number2\" : 4})\n",
    "print(result)"
   ]
  },
  {
   "cell_type": "code",
   "execution_count": null,
   "id": "345429ef",
   "metadata": {},
   "outputs": [],
   "source": []
  }
 ],
 "metadata": {
  "kernelspec": {
   "display_name": "venv (3.13.1)",
   "language": "python",
   "name": "python3"
  },
  "language_info": {
   "codemirror_mode": {
    "name": "ipython",
    "version": 3
   },
   "file_extension": ".py",
   "mimetype": "text/x-python",
   "name": "python",
   "nbconvert_exporter": "python",
   "pygments_lexer": "ipython3",
   "version": "3.13.1"
  }
 },
 "nbformat": 4,
 "nbformat_minor": 5
}
