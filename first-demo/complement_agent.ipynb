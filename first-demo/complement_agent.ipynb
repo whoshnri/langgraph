{
 "cells": [
  {
   "cell_type": "code",
   "execution_count": 1,
   "id": "a712cc60",
   "metadata": {},
   "outputs": [],
   "source": [
    "from typing import Dict, TypedDict\n",
    "from langgraph.graph import StateGraph"
   ]
  },
  {
   "cell_type": "code",
   "execution_count": 7,
   "id": "6624c004",
   "metadata": {},
   "outputs": [],
   "source": [
    "class AgentState(TypedDict):\n",
    "    message : str\n",
    "\n",
    "def complements_node(state: AgentState) -> AgentState:\n",
    "    \"\"\"Simple node that adds a greeting message to the state.\"\"\"\n",
    "    state['message'] = f\"Hey {state[\"message\"]} you are doing such an awesome job learning langchain\"\n",
    "    return state"
   ]
  },
  {
   "cell_type": "code",
   "execution_count": 8,
   "id": "56b35b9a",
   "metadata": {},
   "outputs": [],
   "source": [
    "#create a state graph\n",
    "graph = StateGraph(AgentState)\n",
    "\n",
    "# add a node to the graph\n",
    "graph.add_node(\n",
    "    \"complement\",\n",
    "    complements_node\n",
    ")\n",
    "\n",
    "graph.set_entry_point(\"complement\")\n",
    "graph.set_finish_point(\"complement\")\n",
    "\n",
    "\n",
    "#compile the graph\n",
    "app = graph.compile()"
   ]
  },
  {
   "cell_type": "code",
   "execution_count": 10,
   "id": "870f34c6",
   "metadata": {},
   "outputs": [],
   "source": [
    "result = app.invoke({\"message\":\"Henry\"})"
   ]
  },
  {
   "cell_type": "code",
   "execution_count": 11,
   "id": "96fb5613",
   "metadata": {},
   "outputs": [
    {
     "data": {
      "text/plain": [
       "'Hey Henry you are doing such an awesome job learning langchain'"
      ]
     },
     "execution_count": 11,
     "metadata": {},
     "output_type": "execute_result"
    }
   ],
   "source": [
    "result[\"message\"]"
   ]
  },
  {
   "cell_type": "code",
   "execution_count": null,
   "id": "642cfc91",
   "metadata": {},
   "outputs": [],
   "source": []
  }
 ],
 "metadata": {
  "kernelspec": {
   "display_name": "venv",
   "language": "python",
   "name": "python3"
  },
  "language_info": {
   "codemirror_mode": {
    "name": "ipython",
    "version": 3
   },
   "file_extension": ".py",
   "mimetype": "text/x-python",
   "name": "python",
   "nbconvert_exporter": "python",
   "pygments_lexer": "ipython3",
   "version": "3.13.1"
  }
 },
 "nbformat": 4,
 "nbformat_minor": 5
}
