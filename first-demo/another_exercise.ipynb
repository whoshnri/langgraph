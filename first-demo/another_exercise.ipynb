{
 "cells": [
  {
   "cell_type": "code",
   "execution_count": 1,
   "id": "2e20a6e8",
   "metadata": {},
   "outputs": [],
   "source": [
    "from typing import TypedDict, List\n",
    "from langgraph.graph import StateGraph"
   ]
  },
  {
   "cell_type": "code",
   "execution_count": 18,
   "id": "bcb652d8",
   "metadata": {},
   "outputs": [],
   "source": [
    "class AgentState(TypedDict):\n",
    "    name : str\n",
    "    operation : str\n",
    "    numbers : List[int]\n",
    "    result : str\n"
   ]
  },
  {
   "cell_type": "code",
   "execution_count": 27,
   "id": "189c0885",
   "metadata": {},
   "outputs": [],
   "source": [
    "def multiply(lists):\n",
    "    mul = 1\n",
    "    for i in lists:\n",
    "        mul = mul * i\n",
    "    return mul\n",
    "\n",
    "\n",
    "def get_answer(state:AgentState) -> AgentState:\n",
    "    if state[\"operation\"] == 'plus':\n",
    "        state[\"result\"] = f\"Hi {state['name']} your sum is {sum(state['numbers'])}\"\n",
    "    elif state[\"operation\"] == 'times':\n",
    "        state[\"result\"] = f\"Hi {state['name']} your product is {multiply(state['numbers'])}\"\n",
    "\n",
    "    return state"
   ]
  },
  {
   "cell_type": "code",
   "execution_count": 28,
   "id": "08347048",
   "metadata": {},
   "outputs": [],
   "source": [
    "graph = StateGraph(AgentState)\n",
    "\n",
    "graph.add_node(\"answerer\", get_answer)\n",
    "graph.set_entry_point(\"answerer\")\n",
    "graph.set_finish_point(\"answerer\")\n",
    "\n",
    "app = graph.compile()"
   ]
  },
  {
   "cell_type": "code",
   "execution_count": 31,
   "id": "38a1c142",
   "metadata": {},
   "outputs": [],
   "source": [
    "answer = app.invoke({\"name\" : \"Henry\", \"operation\": \"times\", \"numbers\" : [1,2,3,4]})"
   ]
  },
  {
   "cell_type": "code",
   "execution_count": 32,
   "id": "0b3a3d7f",
   "metadata": {},
   "outputs": [
    {
     "data": {
      "text/plain": [
       "'Hi Henry your product is 24'"
      ]
     },
     "execution_count": 32,
     "metadata": {},
     "output_type": "execute_result"
    }
   ],
   "source": [
    "answer[\"result\"]"
   ]
  },
  {
   "cell_type": "code",
   "execution_count": null,
   "id": "471ca901",
   "metadata": {},
   "outputs": [],
   "source": []
  }
 ],
 "metadata": {
  "kernelspec": {
   "display_name": "venv",
   "language": "python",
   "name": "python3"
  },
  "language_info": {
   "codemirror_mode": {
    "name": "ipython",
    "version": 3
   },
   "file_extension": ".py",
   "mimetype": "text/x-python",
   "name": "python",
   "nbconvert_exporter": "python",
   "pygments_lexer": "ipython3",
   "version": "3.13.1"
  }
 },
 "nbformat": 4,
 "nbformat_minor": 5
}
